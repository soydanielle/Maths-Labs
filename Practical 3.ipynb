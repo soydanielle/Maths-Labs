{
 "cells": [
  {
   "cell_type": "code",
   "execution_count": 2,
   "metadata": {},
   "outputs": [],
   "source": [
    "from numpy import *\n",
    "from matplotlib.pyplot import *\n",
    "import random"
   ]
  },
  {
   "cell_type": "code",
   "execution_count": 3,
   "metadata": {},
   "outputs": [
    {
     "data": {
      "text/plain": [
       "[4, 3, 2, 1]"
      ]
     },
     "execution_count": 3,
     "metadata": {},
     "output_type": "execute_result"
    }
   ],
   "source": [
    "#1\n",
    "def reverse(list):\n",
    "    return(list[::-1])\n",
    "reverse([1,2,3,4])"
   ]
  },
  {
   "cell_type": "code",
   "execution_count": 4,
   "metadata": {},
   "outputs": [
    {
     "data": {
      "text/plain": [
       "3.0"
      ]
     },
     "execution_count": 4,
     "metadata": {},
     "output_type": "execute_result"
    }
   ],
   "source": [
    "#2\n",
    "def average(list):\n",
    "    return(sum(list)/len(list))\n",
    "average([1,2,3,4,5])"
   ]
  },
  {
   "cell_type": "code",
   "execution_count": 5,
   "metadata": {},
   "outputs": [
    {
     "data": {
      "text/plain": [
       "False"
      ]
     },
     "execution_count": 5,
     "metadata": {},
     "output_type": "execute_result"
    }
   ],
   "source": [
    "#3\n",
    "def f(el,l):\n",
    "    return el in l\n",
    "f(5,[1,2,3])"
   ]
  },
  {
   "cell_type": "code",
   "execution_count": 6,
   "metadata": {},
   "outputs": [
    {
     "name": "stdout",
     "output_type": "stream",
     "text": [
      "2 x 0 = 0\n",
      "2 x 1 = 2\n",
      "2 x 2 = 4\n",
      "2 x 3 = 6\n",
      "2 x 4 = 8\n",
      "2 x 5 = 10\n",
      "2 x 6 = 12\n",
      "2 x 7 = 14\n",
      "2 x 8 = 16\n",
      "2 x 9 = 18\n",
      "2 x 10 = 20\n",
      "2 x 11 = 22\n",
      "2 x 12 = 24\n",
      "2 x 13 = 26\n",
      "2 x 14 = 28\n",
      "2 x 15 = 30\n",
      "2 x 16 = 32\n",
      "2 x 17 = 34\n"
     ]
    }
   ],
   "source": [
    "#4\n",
    "def mult(i,k):\n",
    "    for j in range(0,k+1):\n",
    "        print(i,\"x\",j,\"=\",i*j)\n",
    "mult(2,17)"
   ]
  },
  {
   "cell_type": "code",
   "execution_count": 7,
   "metadata": {},
   "outputs": [
    {
     "data": {
      "text/plain": [
       "3.141582653589792"
      ]
     },
     "execution_count": 7,
     "metadata": {},
     "output_type": "execute_result"
    }
   ],
   "source": [
    "#5\n",
    "def g(i):\n",
    "    return(4*((-1)**(i+1))/(2*i-1))\n",
    "aa = [g(i) for i in range(1,10**5+1)]\n",
    "sum(aa)"
   ]
  },
  {
   "cell_type": "code",
   "execution_count": 8,
   "metadata": {},
   "outputs": [],
   "source": [
    "#6\n",
    "def f(x):\n",
    "    return x**3+2*x**2-x-1\n",
    "def df(x):\n",
    "    return 3*x**2+4*x-1\n",
    "def newton(f,df,x0):\n",
    "    xs=[x0]\n",
    "    for i in range(10):\n",
    "        xs.append(xs[-1]-f(xs[-1])/df(xs[-1]))\n",
    "    return xs[-1]"
   ]
  },
  {
   "cell_type": "code",
   "execution_count": 9,
   "metadata": {},
   "outputs": [
    {
     "data": {
      "image/png": "[encoded data removed]",
      "text/plain": [
       "<Figure size 432x288 with 1 Axes>"
      ]
     },
     "metadata": {
      "needs_background": "light"
     },
     "output_type": "display_data"
    }
   ],
   "source": [
    "xr=linspace(-3,3)\n",
    "yr=[f(x) for x in xr]\n",
    "plot(xr,yr)\n",
    "grid()"
   ]
  },
  {
   "cell_type": "code",
   "execution_count": 10,
   "metadata": {},
   "outputs": [
    {
     "data": {
      "text/plain": [
       "(-2.2469796037174667, -0.5549581320873712, 0.8019377358048383)"
      ]
     },
     "execution_count": 10,
     "metadata": {},
     "output_type": "execute_result"
    }
   ],
   "source": [
    "newton(f,df,-2),newton(f,df,0),newton(f,df,1)"
   ]
  },
  {
   "cell_type": "code",
   "execution_count": 11,
   "metadata": {},
   "outputs": [
    {
     "data": {
      "text/plain": [
       "(4.64, -0.2948022005446793, 0.22958745610333328)"
      ]
     },
     "execution_count": 11,
     "metadata": {},
     "output_type": "execute_result"
    }
   ],
   "source": [
    "#7 Monte-Carlo unit sphere x**2+y**2<1\n",
    "#volume\n",
    "N=1000\n",
    "n=0\n",
    "S=2*2*2*2\n",
    "for i in range(N):\n",
    "    x1=random.uniform(-1,1)\n",
    "    x2=random.uniform(-1,1)\n",
    "    x3=random.uniform(-1,1)\n",
    "    x4=random.uniform(-1,1)\n",
    "    if (x1**2+x2**2+x3**2+x4**2<1):\n",
    "        n=n+1\n",
    "S1=S*n/N\n",
    "error=sqrt(S1*(S-S1)/N)\n",
    "S1,S1-pi**2/2,error"
   ]
  },
  {
   "cell_type": "code",
   "execution_count": 12,
   "metadata": {},
   "outputs": [
    {
     "data": {
      "text/plain": [
       "4.0"
      ]
     },
     "execution_count": 12,
     "metadata": {},
     "output_type": "execute_result"
    }
   ],
   "source": [
    "#8 area\n",
    "N=100000\n",
    "n=0\n",
    "S=2*2\n",
    "for i in range(N):\n",
    "    x1=random.uniform(-1,1)\n",
    "    x2=random.uniform(-1,1)\n",
    "    abs(x1)<1\n",
    "    abs(x2)<1\n",
    "    if (x1**2+(1/2)*x2**2-1):\n",
    "        n=n+1\n",
    "S1=S*n/N\n",
    "S1"
   ]
  },
  {
   "cell_type": "code",
   "execution_count": 13,
   "metadata": {},
   "outputs": [
    {
     "data": {
      "text/plain": [
       "(0.4599342493155143, 0.45969769413186023)"
      ]
     },
     "execution_count": 13,
     "metadata": {},
     "output_type": "execute_result"
    }
   ],
   "source": [
    "#9\n",
    "def f(x):\n",
    "    return sin(x)\n",
    "def midpoint(f,a,b,n):\n",
    "    xs=linspace(a,b,n)\n",
    "    h=xs[1]-xs[0]\n",
    "    xmid=(xs[:-1]+xs[1:])/2\n",
    "    fs=[f(x) for x in xmid]\n",
    "    return h*sum(fs)\n",
    "midpoint(lambda x: sin(x),0,1,10),-cos(1)+cos(0)"
   ]
  },
  {
   "cell_type": "code",
   "execution_count": 14,
   "metadata": {},
   "outputs": [
    {
     "data": {
      "text/plain": [
       "4.040515118123617"
      ]
     },
     "execution_count": 14,
     "metadata": {},
     "output_type": "execute_result"
    }
   ],
   "source": [
    "error1=midpoint(lambda x:sin(x),0,1,100)+cos(1)-cos(0)\n",
    "error2=midpoint(lambda x:sin(x),0,1,200)+cos(1)-cos(0)\n",
    "error1/error2\n",
    "# so p=2"
   ]
  },
  {
   "cell_type": "code",
   "execution_count": 15,
   "metadata": {},
   "outputs": [],
   "source": [
    "#10 Simpson's integration method\n",
    "def trapezoidal(a,b,f,n):\n",
    "    h=(b-a)/n\n",
    "    xs=linspace(a,b,n+1)\n",
    "    fs=[f(x) for x in xs]\n",
    "    return sum(fs)*h-f(a)*h/2-f(b)*h/2\n",
    "def simpsons(f,a,b,n):\n",
    "    return (trapezoidal(a,b,f,n)+2*midpoint(f,a,b,n))/3"
   ]
  },
  {
   "cell_type": "code",
   "execution_count": 16,
   "metadata": {},
   "outputs": [
    {
     "data": {
      "text/plain": [
       "0.4597011444535877"
      ]
     },
     "execution_count": 16,
     "metadata": {},
     "output_type": "execute_result"
    }
   ],
   "source": [
    "simpsons(f,0,1,20)"
   ]
  },
  {
   "cell_type": "code",
   "execution_count": 17,
   "metadata": {},
   "outputs": [],
   "source": [
    "#11 Lagrange interpolation\n",
    "def pi(x,i,xs):\n",
    "    xi=xs[i]\n",
    "    res=1\n",
    "    for xj in xs:\n",
    "        if xj != xs:\n",
    "            res=res*(x-xj)*(xi-xj)\n",
    "    return res"
   ]
  },
  {
   "cell_type": "code",
   "execution_count": 18,
   "metadata": {},
   "outputs": [],
   "source": [
    "def lagrange(x,ys,xs):\n",
    "    res=0\n",
    "    for i in range(len(ys)):\n",
    "        res=res+ys[i]*pi(x,i,xs[:])\n",
    "    return res"
   ]
  },
  {
   "cell_type": "code",
   "execution_count": 19,
   "metadata": {},
   "outputs": [
    {
     "data": {
      "text/plain": [
       "0"
      ]
     },
     "execution_count": 19,
     "metadata": {},
     "output_type": "execute_result"
    }
   ],
   "source": [
    "xs=[1,2,3,4,5]\n",
    "ys=[10,98,426,1252,2930]\n",
    "lagrange(6,ys,xs)"
   ]
  },
  {
   "cell_type": "code",
   "execution_count": 20,
   "metadata": {},
   "outputs": [
    {
     "data": {
      "image/png": "[encoded data removed]",
      "text/plain": [
       "<Figure size 432x288 with 1 Axes>"
      ]
     },
     "metadata": {
      "needs_background": "light"
     },
     "output_type": "display_data"
    }
   ],
   "source": [
    "xdense = arange(0,6,0.1)\n",
    "plot(xs, ys, \"ro\") \n",
    "plot(xdense,lagrange(xdense,ys,xs))\n",
    "grid()"
   ]
  },
  {
   "cell_type": "code",
   "execution_count": 34,
   "metadata": {},
   "outputs": [],
   "source": [
    "#12\n",
    "basis= [lambda x: sin(x),\n",
    "       lambda x: cos(x),\n",
    "       lambda x: sin(2*x),\n",
    "       lambda x: cos(2*x)]\n",
    "def findfitWithBasis(m,xs,ys):\n",
    "    A = zeros([m+1,m+1])\n",
    "    b = zeros(m+1)\n",
    "    for k in range(m+1):\n",
    "        b[k] = sum(ys*basis[k](xs)) # change here\n",
    "        for j in range(m+1):\n",
    "            A[k,j] = sum(basis[k](xs)*basis[j](xs)) # and here\n",
    "    a = linalg.solve(A,b)\n",
    "    def fit(x):\n",
    "        res = 0\n",
    "        for i in range(m+1):\n",
    "            res = res + a[i]*basis[i](x)\n",
    "        return res\n",
    "    return fit    \n",
    "\n",
    "xi = arange(1,6)\n",
    "yi = array([0,3,-2,-5,3])\n",
    "ft=findfitWithBasis(3,xi,yi)"
   ]
  },
  {
   "cell_type": "code",
   "execution_count": 22,
   "metadata": {},
   "outputs": [
    {
     "data": {
      "text/plain": [
       "[<matplotlib.lines.Line2D at 0x1218317d0>]"
      ]
     },
     "execution_count": 22,
     "metadata": {},
     "output_type": "execute_result"
    },
    {
     "data": {
      "image/png": "[encoded data removed]",
      "text/plain": [
       "<Figure size 432x288 with 1 Axes>"
      ]
     },
     "metadata": {
      "needs_background": "light"
     },
     "output_type": "display_data"
    }
   ],
   "source": [
    "xs = linspace(0,6)\n",
    "ys = list(map(ft,xs))\n",
    "plot(xs,ys,'b')\n",
    "plot(xi,yi,'or')"
   ]
  },
  {
   "cell_type": "code",
   "execution_count": 23,
   "metadata": {},
   "outputs": [],
   "source": [
    "#13 Euler Method\n",
    "def F(x,y):\n",
    "    return sin(4*x)-y"
   ]
  },
  {
   "cell_type": "code",
   "execution_count": 24,
   "metadata": {},
   "outputs": [],
   "source": [
    "def exact(x):\n",
    "    return exp(sin(4*x)/4)"
   ]
  },
  {
   "cell_type": "code",
   "execution_count": 25,
   "metadata": {},
   "outputs": [
    {
     "data": {
      "image/png": "[encoded data removed]",
      "text/plain": [
       "<Figure size 432x288 with 1 Axes>"
      ]
     },
     "metadata": {
      "needs_background": "light"
     },
     "output_type": "display_data"
    }
   ],
   "source": [
    "n = 100 # number of jumps\n",
    "a = 0\n",
    "b = 4\n",
    "xs = linspace(a,b,n+1)\n",
    "h = xs[4]-xs[0]\n",
    "ys = zeros(n+1) # template for the values of y(x) at xs\n",
    "ys[0] = 1 # starting point\n",
    "for i in range(n): # n jumps\n",
    "    ys[i+1] = ys[i]+h*F(xs[i],ys[i])\n",
    "zs = [exact(x) for x in xs]\n",
    "plot(xs,ys-zs,\"r\")\n",
    "grid()"
   ]
  },
  {
   "cell_type": "code",
   "execution_count": 26,
   "metadata": {},
   "outputs": [],
   "source": [
    "#14\n",
    "import scipy.integrate\n",
    "?scipy.integrate.quad"
   ]
  },
  {
   "cell_type": "code",
   "execution_count": 27,
   "metadata": {},
   "outputs": [
    {
     "data": {
      "text/plain": [
       "(0.7491454106791013, 8.31718483728207e-15)"
      ]
     },
     "execution_count": 27,
     "metadata": {},
     "output_type": "execute_result"
    }
   ],
   "source": [
    "result = scipy.integrate.quad(lambda x: 1/(2+sin(x)),0,2)\n",
    "result"
   ]
  },
  {
   "cell_type": "code",
   "execution_count": 28,
   "metadata": {},
   "outputs": [
    {
     "data": {
      "text/plain": [
       "array([[7, 4, 1],\n",
       "       [8, 5, 2],\n",
       "       [9, 6, 3]])"
      ]
     },
     "execution_count": 28,
     "metadata": {},
     "output_type": "execute_result"
    }
   ],
   "source": [
    "#15\n",
    "def rotate(A):\n",
    "    return np.rot90(A,3)\n",
    "B=array([[1,2,3],[4,5,6],[7,8,9]])\n",
    "rotate(B)"
   ]
  },
  {
   "cell_type": "code",
   "execution_count": 29,
   "metadata": {},
   "outputs": [
    {
     "name": "stdout",
     "output_type": "stream",
     "text": [
      "0 15 30 45 60 75 90 105 120 135 150 165 180 195 210 225 240 255 270 285 300 315 330 345 360 375 390 405 420 435 450 465 480 495 510 525 540 555 570 585 600 615 630 645 660 675 690 705 720 735 750 765 780 795 810 825 840 855 870 885 900 915 930 945 960 975 990 1005 1020 1035 1050 1065 1080 1095 1110 1125 1140 1155 1170 1185 1200 1215 1230 1245 1260 1275 1290 1305 1320 1335 1350 1365 1380 1395 1410 1425 1440 1455 1470 1485 1500 1515 1530 1545 1560 1575 1590 1605 1620 1635 1650 1665 1680 1695 1710 1725 1740 1755 1770 1785 1800 1815 1830 1845 1860 1875 1890 1905 1920 1935 1950 1965 1980 1995 2010 2025 2040 2055 2070 2085 2100 2115 2130 2145 2160 2175 2190 2205 2220 2235 2250 2265 2280 2295 2310 2325 2340 2355 2370 2385 2400 2415 2430 2445 2460 2475 2490 2505 2520 2535 2550 2565 2580 2595 2610 2625 2640 2655 2670 2685 2700 2715 2730 2745 2760 2775 2790 2805 2820 2835 2850 2865 2880 2895 2910 2925 2940 2955 2970 2985 3000 3015 3030 3045 3060 3075 3090 3105 3120 3135 3150 3165 3180 3195 3210 3225 3240 3255 3270 3285 3300 3315 3330 3345 3360 3375 3390 3405 3420 3435 3450 3465 3480 3495 3510 3525 3540 3555 3570 3585 3600 3615 3630 3645 3660 3675 3690 3705 3720 3735 3750 3765 3780 3795 3810 3825 3840 3855 3870 3885 3900 3915 3930 3945 3960 3975 3990 4005 4020 4035 4050 4065 4080 4095 4110 4125 4140 4155 4170 4185 4200 4215 4230 4245 4260 4275 4290 4305 4320 4335 4350 4365 4380 4395 4410 4425 4440 4455 4470 4485 4500 4515 4530 4545 4560 4575 4590 4605 4620 4635 4650 4665 4680 4695 4710 4725 4740 4755 4770 4785 4800 4815 4830 4845 4860 4875 4890 4905 4920 4935 4950 4965 4980 4995 5010 5025 5040 5055 5070 5085 5100 5115 5130 5145 5160 5175 5190 5205 5220 5235 5250 5265 5280 5295 5310 5325 5340 5355 5370 5385 5400 5415 5430 5445 5460 5475 5490 5505 5520 5535 5550 5565 5580 5595 5610 5625 5640 5655 5670 5685 5700 5715 5730 5745 5760 5775 5790 5805 5820 5835 5850 5865 5880 5895 5910 5925 5940 5955 5970 5985 6000 6015 6030 6045 6060 6075 6090 6105 6120 6135 6150 6165 6180 6195 6210 6225 6240 6255 6270 6285 6300 6315 6330 6345 6360 6375 6390 6405 6420 6435 6450 6465 6480 6495 6510 6525 6540 6555 6570 6585 6600 6615 6630 6645 6660 6675 6690 6705 6720 6735 6750 6765 6780 6795 6810 6825 6840 6855 6870 6885 6900 6915 6930 6945 6960 6975 6990 7005 7020 7035 7050 7065 7080 7095 7110 7125 7140 7155 7170 7185 7200 7215 7230 7245 7260 7275 7290 7305 7320 7335 7350 7365 7380 7395 7410 7425 7440 7455 7470 7485 7500 7515 7530 7545 7560 7575 7590 7605 7620 7635 7650 7665 7680 7695 7710 7725 7740 7755 7770 7785 7800 7815 7830 7845 7860 7875 7890 7905 7920 7935 7950 7965 7980 7995 8010 8025 8040 8055 8070 8085 8100 8115 8130 8145 8160 8175 8190 8205 8220 8235 8250 8265 8280 8295 8310 8325 8340 8355 8370 8385 8400 8415 8430 8445 8460 8475 8490 8505 8520 8535 8550 8565 8580 8595 8610 8625 8640 8655 8670 8685 8700 8715 8730 8745 8760 8775 8790 8805 8820 8835 8850 8865 8880 8895 8910 8925 8940 8955 8970 8985 9000 9015 9030 9045 9060 9075 9090 9105 9120 9135 9150 9165 9180 9195 9210 9225 9240 9255 9270 9285 9300 9315 9330 9345 9360 9375 9390 9405 9420 9435 9450 9465 9480 9495 9510 9525 9540 9555 9570 9585 9600 9615 9630 9645 9660 9675 9690 9705 9720 9735 9750 9765 9780 9795 9810 9825 9840 9855 9870 9885 9900 9915 9930 9945 9960 9975 9990 "
     ]
    }
   ],
   "source": [
    "#16\n",
    "def result(N): \n",
    "    for num in range(N):  \n",
    "            if num % 3 == 0 and num % 5 == 0: \n",
    "                print(str(num) + \" \", end = \"\")        \n",
    "            else: \n",
    "                pass\n",
    "result(10000)"
   ]
  },
  {
   "cell_type": "code",
   "execution_count": 30,
   "metadata": {},
   "outputs": [
    {
     "name": "stdout",
     "output_type": "stream",
     "text": [
      "1\n",
      "2\n",
      "3\n",
      "5\n",
      "7\n",
      "11\n",
      "13\n",
      "17\n",
      "19\n",
      "23\n",
      "29\n",
      "31\n",
      "37\n",
      "41\n",
      "43\n",
      "47\n",
      "53\n",
      "59\n",
      "61\n",
      "67\n",
      "71\n",
      "73\n",
      "79\n",
      "83\n",
      "89\n",
      "97\n",
      "101\n",
      "103\n",
      "107\n",
      "109\n",
      "113\n",
      "127\n",
      "131\n",
      "137\n",
      "139\n",
      "149\n",
      "151\n",
      "157\n",
      "163\n",
      "167\n",
      "173\n",
      "179\n",
      "181\n",
      "191\n",
      "193\n",
      "197\n",
      "199\n",
      "211\n",
      "223\n",
      "227\n",
      "229\n",
      "233\n",
      "239\n",
      "241\n",
      "251\n",
      "257\n",
      "263\n",
      "269\n",
      "271\n",
      "277\n",
      "281\n",
      "283\n",
      "293\n",
      "307\n",
      "311\n",
      "313\n",
      "317\n",
      "331\n",
      "337\n",
      "347\n",
      "349\n",
      "353\n",
      "359\n",
      "367\n",
      "373\n",
      "379\n",
      "383\n",
      "389\n",
      "397\n",
      "401\n",
      "409\n",
      "419\n",
      "421\n",
      "431\n",
      "433\n",
      "439\n",
      "443\n",
      "449\n",
      "457\n",
      "461\n",
      "463\n",
      "467\n",
      "479\n",
      "487\n",
      "491\n",
      "499\n",
      "503\n",
      "509\n",
      "521\n",
      "523\n",
      "541\n",
      "547\n",
      "557\n",
      "563\n",
      "569\n",
      "571\n",
      "577\n",
      "587\n",
      "593\n",
      "599\n",
      "601\n",
      "607\n",
      "613\n",
      "617\n",
      "619\n",
      "631\n",
      "641\n",
      "643\n",
      "647\n",
      "653\n",
      "659\n",
      "661\n",
      "673\n",
      "677\n",
      "683\n",
      "691\n",
      "701\n",
      "709\n",
      "719\n",
      "727\n",
      "733\n",
      "739\n",
      "743\n",
      "751\n",
      "757\n",
      "761\n",
      "769\n",
      "773\n",
      "787\n",
      "797\n",
      "809\n",
      "811\n",
      "821\n",
      "823\n",
      "827\n",
      "829\n",
      "839\n",
      "853\n",
      "857\n",
      "859\n",
      "863\n",
      "877\n",
      "881\n",
      "883\n",
      "887\n",
      "907\n",
      "911\n",
      "919\n",
      "929\n",
      "937\n",
      "941\n",
      "947\n",
      "953\n",
      "967\n",
      "971\n",
      "977\n",
      "983\n",
      "991\n",
      "997\n"
     ]
    }
   ],
   "source": [
    "#17\n",
    "for num in range(1,1000):\n",
    "    prime = True\n",
    "    for i in range(2,num):\n",
    "        if (num%i==0):\n",
    "            prime = False\n",
    "    if prime:\n",
    "       print(num)"
   ]
  },
  {
   "cell_type": "code",
   "execution_count": 31,
   "metadata": {},
   "outputs": [
    {
     "name": "stdout",
     "output_type": "stream",
     "text": [
      "(100, '-1+2-3+4+5+6+78+9')\n",
      "(100, '1+2+3-4+5+6+78+9')\n",
      "(100, '1+2+34-5+67-8+9')\n",
      "(100, '1+23-4+5+6+78-9')\n",
      "(100, '1+23-4+56+7+8+9')\n",
      "(100, '12+3+4+5-6-7+89')\n",
      "(100, '12+3-4+5+67+8+9')\n",
      "(100, '12-3-4+5-6+7+89')\n",
      "(100, '123+4-5+67-89')\n",
      "(100, '123+45-67+8-9')\n",
      "(100, '123-4-5-6-7+8-9')\n",
      "(100, '123-45-67+89')\n",
      "Sum 9 has the maximum number of solutions: 46\n",
      "Lowest positive sum that can't be expressed: 211\n",
      "Highest Sums: [123456789, 23456790, 23456788, 12345687, 12345669, 3456801, 3456792, 3456790, 3456788, 3456786]\n"
     ]
    }
   ],
   "source": [
    "#18\n",
    "from itertools import product, islice\n",
    " \n",
    " \n",
    "def expr(p):\n",
    "    return \"{}1{}2{}3{}4{}5{}6{}7{}8{}9\".format(*p)\n",
    " \n",
    " \n",
    "def gen_expr():\n",
    "    op = ['+', '-', '']\n",
    "    return [expr(p) for p in product(op, repeat=9) if p[0] != '+']\n",
    " \n",
    " \n",
    "def all_exprs():\n",
    "    values = {}\n",
    "    for expr in gen_expr():\n",
    "        val = eval(expr)\n",
    "        if val not in values:\n",
    "            values[val] = 1\n",
    "        else:\n",
    "            values[val] += 1\n",
    "    return values\n",
    " \n",
    " \n",
    "def sum_to(val):\n",
    "    for s in filter(lambda x: x[0] == val, map(lambda x: (eval(x), x), gen_expr())):\n",
    "        print(s)\n",
    " \n",
    " \n",
    "def max_solve():\n",
    "    print(\"Sum {} has the maximum number of solutions: {}\".\n",
    "          format(*max(all_exprs().items(), key=lambda x: x[1])))\n",
    " \n",
    " \n",
    "def min_solve():\n",
    "    values = all_exprs()\n",
    "    for i in range(123456789):\n",
    "        if i not in values:\n",
    "            print(\"Lowest positive sum that can't be expressed: {}\".format(i))\n",
    "            return\n",
    " \n",
    " \n",
    "def highest_sums(n=10):\n",
    "    sums = map(lambda x: x[0],\n",
    "               islice(sorted(all_exprs().items(), key=lambda x: x[0], reverse=True), n))\n",
    "    print(\"Highest Sums: {}\".format(list(sums)))\n",
    " \n",
    " \n",
    "sum_to(100)\n",
    "max_solve()\n",
    "min_solve()\n",
    "highest_sums()"
   ]
  },
  {
   "cell_type": "code",
   "execution_count": 32,
   "metadata": {},
   "outputs": [],
   "source": [
    "#19\n",
    "?scipy.integrate.dblquad"
   ]
  },
  {
   "cell_type": "code",
   "execution_count": 33,
   "metadata": {},
   "outputs": [
    {
     "data": {
      "text/plain": [
       "(0.5862214065238655, 1.3743770625476796e-14)"
      ]
     },
     "execution_count": 33,
     "metadata": {},
     "output_type": "execute_result"
    }
   ],
   "source": [
    "f=lambda y,x: sin(2*x**2+y**2)\n",
    "scipy.integrate.dblquad(f,0,2,lambda x :0,lambda x:1)"
   ]
  }
 ],
 "metadata": {
  "kernelspec": {
   "display_name": "Python 3",
   "language": "python",
   "name": "python3"
  },
  "language_info": {
   "codemirror_mode": {
    "name": "ipython",
    "version": 3
   },
   "file_extension": ".py",
   "mimetype": "text/x-python",
   "name": "python",
   "nbconvert_exporter": "python",
   "pygments_lexer": "ipython3",
   "version": "3.7.4"
  }
 },
 "nbformat": 4,
 "nbformat_minor": 2
}
