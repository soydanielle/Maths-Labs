{
 "cells": [
  {
   "cell_type": "markdown",
   "metadata": {},
   "source": [
    "Numerical Differentiation, Experiments"
   ]
  },
  {
   "cell_type": "code",
   "execution_count": 10,
   "metadata": {},
   "outputs": [],
   "source": [
    "from numpy import *"
   ]
  },
  {
   "cell_type": "code",
   "execution_count": 11,
   "metadata": {},
   "outputs": [],
   "source": [
    "def f(x):\n",
    "    return cos(x)\n",
    "def df(x):\n",
    "    return -sin(x)"
   ]
  },
  {
   "cell_type": "code",
   "execution_count": 12,
   "metadata": {},
   "outputs": [],
   "source": [
    "def dfapprox(x,h):\n",
    "    return (f(x+h)-f(x))/h # formula from lecture notes"
   ]
  },
  {
   "cell_type": "code",
   "execution_count": 13,
   "metadata": {},
   "outputs": [
    {
     "data": {
      "text/plain": [
       "-0.025590859617728"
      ]
     },
     "execution_count": 13,
     "metadata": {},
     "output_type": "execute_result"
    }
   ],
   "source": [
    "dfapprox(1,1/10)-df(1)"
   ]
  },
  {
   "cell_type": "code",
   "execution_count": 14,
   "metadata": {},
   "outputs": [],
   "source": [
    "def error(x,h): # experimental error\n",
    "    return dfapprox(x,h)-df(x)"
   ]
  },
  {
   "cell_type": "code",
   "execution_count": 15,
   "metadata": {},
   "outputs": [
    {
     "data": {
      "text/plain": [
       "-0.002687464570532816"
      ]
     },
     "execution_count": 15,
     "metadata": {},
     "output_type": "execute_result"
    }
   ],
   "source": [
    "error(1,1/100)"
   ]
  },
  {
   "cell_type": "code",
   "execution_count": 17,
   "metadata": {},
   "outputs": [
    {
     "name": "stdout",
     "output_type": "stream",
     "text": [
      "h= 0.1 error is -0.025590859617728\n",
      "h= 0.01 error is -0.002687464570532816\n",
      "h= 0.001 error is -0.00027001088522227157\n",
      "h= 0.0001 error is -2.7013712616374974e-05\n",
      "h= 1e-05 error is -2.701500372848109e-06\n",
      "h= 1e-06 error is -2.7008974456954604e-07\n",
      "h= 1e-07 error is -2.8061125201261916e-08\n",
      "h= 1e-08 error is 3.025119488242467e-09\n",
      "h= 1e-09 error is -1.3020164346677632e-07\n",
      "h= 1e-10 error is -3.522462483918076e-07\n",
      "h= 1e-11 error is -3.522462483918076e-07\n",
      "h= 1e-12 error is -7.806785797215277e-05\n",
      "h= 1e-13 error is 0.0010321551666530038\n",
      "h= 1e-14 error is -0.002298513907222466\n",
      "h= 1e-15 error is -0.046707434892228616\n",
      "h= 1e-16 error is 0.8414709848078965\n"
     ]
    }
   ],
   "source": [
    "for i in range(1,17):\n",
    "    h=10**(-i)\n",
    "    print(\"h=\",h,\"error is\",error(1,h))"
   ]
  }
 ],
 "metadata": {
  "kernelspec": {
   "display_name": "Python 3",
   "language": "python",
   "name": "python3"
  },
  "language_info": {
   "codemirror_mode": {
    "name": "ipython",
    "version": 3
   },
   "file_extension": ".py",
   "mimetype": "text/x-python",
   "name": "python",
   "nbconvert_exporter": "python",
   "pygments_lexer": "ipython3",
   "version": "3.7.4"
  }
 },
 "nbformat": 4,
 "nbformat_minor": 2
}
