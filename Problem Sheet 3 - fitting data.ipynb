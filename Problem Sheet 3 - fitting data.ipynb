{
 "cells": [
  {
   "cell_type": "code",
   "execution_count": 2,
   "metadata": {},
   "outputs": [],
   "source": [
    "from numpy import *\n",
    "from matplotlib.pyplot import *"
   ]
  },
  {
   "cell_type": "code",
   "execution_count": 15,
   "metadata": {},
   "outputs": [
    {
     "data": {
      "text/plain": [
       "(249.12094294499494, 351.5700188370516)"
      ]
     },
     "execution_count": 15,
     "metadata": {},
     "output_type": "execute_result"
    }
   ],
   "source": [
    "def findfit(m,xs,ys):\n",
    "    A=zeros([m+1,m+1])\n",
    "    b=zeros(m+1)\n",
    "    for k in range(m+1):\n",
    "        b[k]=sum(ys*xs**k)\n",
    "        for j in range(m+1):\n",
    "            A[k,j]=sum(xs**(k+j))\n",
    "    a=linalg.solve(A,b)\n",
    "    def fit(x):\n",
    "        res=0\n",
    "        for i in range(m+1):\n",
    "            res= res + a[i]*x**i\n",
    "            i=i+1\n",
    "        return res\n",
    "    return fit\n",
    "xi=array([1939,1988,2011,2015])-2015\n",
    "yi=array([456,219,288,309])\n",
    "ft=findfit(1,xi,yi) #linear\n",
    "ft2=findfit(2,xi,yi) #quadratic\n",
    "ft(6),ft2(6)"
   ]
  },
  {
   "cell_type": "code",
   "execution_count": 16,
   "metadata": {},
   "outputs": [
    {
     "data": {
      "text/plain": [
       "[<matplotlib.lines.Line2D at 0x121bf06d0>]"
      ]
     },
     "execution_count": 16,
     "metadata": {},
     "output_type": "execute_result"
    },
    {
     "data": {
      "image/png": "[encoded data removed]",
      "text/plain": [
       "<Figure size 432x288 with 1 Axes>"
      ]
     },
     "metadata": {
      "needs_background": "light"
     },
     "output_type": "display_data"
    }
   ],
   "source": [
    "xs=arange(-100,5,1/100)\n",
    "yslin=list(map(ft,xs))\n",
    "ysquad=list(map(ft2,xs))\n",
    "plot(xs,yslin,'b')\n",
    "plot(xs,ysquad,'r')\n",
    "plot(xi,yi,\"ro\")"
   ]
  },
  {
   "cell_type": "code",
   "execution_count": 18,
   "metadata": {},
   "outputs": [
    {
     "data": {
      "text/plain": [
       "351.5700188370516"
      ]
     },
     "execution_count": 18,
     "metadata": {},
     "output_type": "execute_result"
    }
   ],
   "source": [
    "# prediction for 2021\n",
    "ft2(2021-2015)"
   ]
  },
  {
   "cell_type": "code",
   "execution_count": 38,
   "metadata": {},
   "outputs": [],
   "source": [
    "#Q2\n",
    "basis=[lambda x: cos(2*pi*0*x),\n",
    "      lambda x: cos(2*pi*1*x),\n",
    "      lambda x: sin(2*pi*1*x),\n",
    "      lambda x: cos(2*pi*2*x),\n",
    "      lambda x: sin(2*pi*2*x)]"
   ]
  },
  {
   "cell_type": "code",
   "execution_count": 39,
   "metadata": {},
   "outputs": [],
   "source": [
    "def findfitWithBasis(m,xs,ys):\n",
    "    A = zeros([m+1,m+1])\n",
    "    b = zeros(m+1)\n",
    "    for k in range(m+1):\n",
    "        b[k] = sum(ys*basis[k](xs)) # change here\n",
    "        for j in range(m+1):\n",
    "            A[k,j] = sum(basis[k](xs)*basis[j](xs)) # and here\n",
    "    a = linalg.solve(A,b)\n",
    "    def fit(x):\n",
    "        res = 0\n",
    "        for i in range(m+1):\n",
    "            res = res + a[i]*basis[i](x)\n",
    "        return res\n",
    "    return fit"
   ]
  },
  {
   "cell_type": "code",
   "execution_count": 40,
   "metadata": {},
   "outputs": [],
   "source": [
    "datax = arange(1,13)/12\n",
    "datay = array([9.2,8.7,8.2,9.6,11.4,13.6,15.4,16.9,17.3,16.3,14.7,12])\n",
    "ft=findfitwithbasis(3,datax,datay)"
   ]
  },
  {
   "cell_type": "code",
   "execution_count": 41,
   "metadata": {},
   "outputs": [
    {
     "data": {
      "text/plain": [
       "[<matplotlib.lines.Line2D at 0x1221ae510>]"
      ]
     },
     "execution_count": 41,
     "metadata": {},
     "output_type": "execute_result"
    },
    {
     "data": {
      "image/png": "[encoded data removed]",
      "text/plain": [
       "<Figure size 432x288 with 1 Axes>"
      ]
     },
     "metadata": {
      "needs_background": "light"
     },
     "output_type": "display_data"
    }
   ],
   "source": [
    "xs = linspace(0,1)\n",
    "ys = list(map(ft,xs))\n",
    "plot(xs,ys,'b')\n",
    "plot(datax,datay,'or')"
   ]
  }
 ],
 "metadata": {
  "kernelspec": {
   "display_name": "Python 3",
   "language": "python",
   "name": "python3"
  },
  "language_info": {
   "codemirror_mode": {
    "name": "ipython",
    "version": 3
   },
   "file_extension": ".py",
   "mimetype": "text/x-python",
   "name": "python",
   "nbconvert_exporter": "python",
   "pygments_lexer": "ipython3",
   "version": "3.7.4"
  }
 },
 "nbformat": 4,
 "nbformat_minor": 2
}
