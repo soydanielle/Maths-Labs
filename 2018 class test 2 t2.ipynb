{
 "cells": [
  {
   "cell_type": "code",
   "execution_count": 2,
   "metadata": {},
   "outputs": [],
   "source": [
    "from numpy import *\n",
    "from matplotlib.pyplot import *"
   ]
  },
  {
   "cell_type": "code",
   "execution_count": 4,
   "metadata": {},
   "outputs": [
    {
     "data": {
      "text/plain": [
       "-2.9666426317213133"
      ]
     },
     "execution_count": 4,
     "metadata": {},
     "output_type": "execute_result"
    }
   ],
   "source": [
    "#Q1.a\n",
    "def f(x):\n",
    "    return sum([9*((-1)**n)*cos(pi*n*x)/2**n for n in range(1,21)])\n",
    "f(0.1)"
   ]
  },
  {
   "cell_type": "code",
   "execution_count": 29,
   "metadata": {},
   "outputs": [],
   "source": [
    "#b\n",
    "def df(x):\n",
    "    h=10**(-5)\n",
    "    return (f(x+h)-f(x-h))/(2*h)"
   ]
  },
  {
   "cell_type": "code",
   "execution_count": 32,
   "metadata": {},
   "outputs": [
    {
     "data": {
      "text/plain": [
       "0.676268098764865"
      ]
     },
     "execution_count": 32,
     "metadata": {},
     "output_type": "execute_result"
    }
   ],
   "source": [
    "df(0.1)"
   ]
  },
  {
   "cell_type": "code",
   "execution_count": 31,
   "metadata": {},
   "outputs": [],
   "source": [
    "def newton(f,df,x0):\n",
    "    xs=[x0]\n",
    "    for i in range(20):\n",
    "        xs.append(xs[-1]-f(xs[-1])/df(xs[-1]))\n",
    "    return xs[-1]"
   ]
  },
  {
   "cell_type": "code",
   "execution_count": 34,
   "metadata": {},
   "outputs": [
    {
     "data": {
      "text/plain": [
       "(0.6666664037751329, -4.507892404628441e-16)"
      ]
     },
     "execution_count": 34,
     "metadata": {},
     "output_type": "execute_result"
    }
   ],
   "source": [
    "ee= newton(f,df,0.5)\n",
    "ee,f(ee)"
   ]
  },
  {
   "cell_type": "code",
   "execution_count": 37,
   "metadata": {},
   "outputs": [
    {
     "data": {
      "text/plain": [
       "0.9093125819596051"
      ]
     },
     "execution_count": 37,
     "metadata": {},
     "output_type": "execute_result"
    }
   ],
   "source": [
    "#2.a\n",
    "def midpoint(f,a,b,n):\n",
    "    h=(b-a)/n\n",
    "    xs=linspace(a+h/2,b-h/2,n)\n",
    "    fs=[f(x) for x in xs]\n",
    "    return sum(fs)*h\n",
    "midpoint(cos,0,2,100)"
   ]
  },
  {
   "cell_type": "code",
   "execution_count": 41,
   "metadata": {},
   "outputs": [
    {
     "data": {
      "text/plain": [
       "4.000035000145932"
      ]
     },
     "execution_count": 41,
     "metadata": {},
     "output_type": "execute_result"
    }
   ],
   "source": [
    "#b\n",
    "e1=midpoint(cos,0,2,100)-sin(2)\n",
    "e2=midpoint(cos,0,2,200)-sin(2)\n",
    "e1/e2 # so p=2"
   ]
  },
  {
   "cell_type": "code",
   "execution_count": 44,
   "metadata": {},
   "outputs": [
    {
     "data": {
      "text/plain": [
       "-4.420230848012352e-11"
      ]
     },
     "execution_count": 44,
     "metadata": {},
     "output_type": "execute_result"
    }
   ],
   "source": [
    "#c Richardson extrapolation\n",
    "G=(midpoint(cos,0,2,100)-4*midpoint(cos,0,2,200))/(1-4)\n",
    "G-sin(2)"
   ]
  },
  {
   "cell_type": "code",
   "execution_count": 47,
   "metadata": {},
   "outputs": [
    {
     "data": {
      "text/plain": [
       "3.7887503291367253e-06"
      ]
     },
     "execution_count": 47,
     "metadata": {},
     "output_type": "execute_result"
    }
   ],
   "source": [
    "e2"
   ]
  },
  {
   "cell_type": "code",
   "execution_count": 54,
   "metadata": {},
   "outputs": [
    {
     "data": {
      "text/plain": [
       "0.18181818181818182"
      ]
     },
     "execution_count": 54,
     "metadata": {},
     "output_type": "execute_result"
    }
   ],
   "source": [
    "#3.a\n",
    "def h(k):\n",
    "    return (1+(-1)**k)/(k+1)\n",
    "h(10)"
   ]
  },
  {
   "cell_type": "code",
   "execution_count": 60,
   "metadata": {},
   "outputs": [
    {
     "data": {
      "text/plain": [
       "[0.0857142857142856, 0.0, -0.8571428571428569, 0.0, 1]"
      ]
     },
     "execution_count": 60,
     "metadata": {},
     "output_type": "execute_result"
    }
   ],
   "source": [
    "#b\n",
    "n=3\n",
    "B=zeros([n+1,n+1])\n",
    "b=zeros(n+1)\n",
    "for k in range(n+1):\n",
    "    b[k] = -h(n+1+k)\n",
    "    for i in range(n+1):\n",
    "        B[k,i]=h(k+i)\n",
    "cs=list(linalg.solve(B,b))\n",
    "cs.append(1)\n",
    "cs"
   ]
  },
  {
   "cell_type": "code",
   "execution_count": 61,
   "metadata": {},
   "outputs": [
    {
     "data": {
      "text/plain": [
       "array([-0.86113631,  0.86113631, -0.33998104,  0.33998104])"
      ]
     },
     "execution_count": 61,
     "metadata": {},
     "output_type": "execute_result"
    }
   ],
   "source": [
    "#c \n",
    "roots(cs[::-1])"
   ]
  },
  {
   "cell_type": "code",
   "execution_count": 90,
   "metadata": {},
   "outputs": [
    {
     "name": "stdout",
     "output_type": "stream",
     "text": [
      "Volume= 4.984\n"
     ]
    }
   ],
   "source": [
    "#4.a\n",
    "N=1000\n",
    "S=2*2*2\n",
    "n=0\n",
    "px=[]\n",
    "py=[]\n",
    "pxi=[]\n",
    "pyi=[]\n",
    "\n",
    "for i in range(N):\n",
    "    x=random.uniform(-1,1)\n",
    "    y=random.uniform(-2,2)\n",
    "    px.append(x)\n",
    "    py.append(y)\n",
    "    if (x**2+(y**2)/4)<1 and y>-1:\n",
    "        n+=1\n",
    "        pxi.append(x)\n",
    "        pyi.append(y)\n",
    "S1=S*n/N\n",
    "S2=S-S1\n",
    "error= sqrt((S1*S2)/N)\n",
    "print(\"Volume=\", S1)"
   ]
  },
  {
   "cell_type": "code",
   "execution_count": 91,
   "metadata": {},
   "outputs": [
    {
     "name": "stdout",
     "output_type": "stream",
     "text": [
      "result= 4.984 actual error= -0.07081560857082891 estimated error= 0.12260401298489376\n"
     ]
    }
   ],
   "source": [
    "#b\n",
    "print(\"result=\", S1, \"actual error=\", S1-(sqrt(3)/2+4*pi/3), \"estimated error=\", error)"
   ]
  },
  {
   "cell_type": "code",
   "execution_count": 75,
   "metadata": {},
   "outputs": [
    {
     "data": {
      "text/plain": [
       "[<matplotlib.lines.Line2D at 0x11b85eb50>]"
      ]
     },
     "execution_count": 75,
     "metadata": {},
     "output_type": "execute_result"
    },
    {
     "data": {
      "image/png": "[encoded data removed]",
      "text/plain": [
       "<Figure size 432x288 with 1 Axes>"
      ]
     },
     "metadata": {
      "needs_background": "light"
     },
     "output_type": "display_data"
    }
   ],
   "source": [
    "plot(px,py,\"ro\")\n",
    "plot(pxi,pyi,\"yo\")"
   ]
  },
  {
   "cell_type": "code",
   "execution_count": 101,
   "metadata": {},
   "outputs": [],
   "source": [
    "#Q5.a\n",
    "basis=[lambda x: 1,sin,cos, lambda x: sin(2*x)]"
   ]
  },
  {
   "cell_type": "code",
   "execution_count": 102,
   "metadata": {},
   "outputs": [],
   "source": [
    "xs=[0.1,0.2,0.3,0.4,0.5]\n",
    "ys=[10,5,-4,-7,-1]"
   ]
  },
  {
   "cell_type": "code",
   "execution_count": 103,
   "metadata": {},
   "outputs": [],
   "source": [
    "A=zeros([4,4])\n",
    "for k in range(4):\n",
    "    for j in range(4):\n",
    "        A[k,j]=sum([basis[k](xs[i])*basis[j](xs[i]) for i in range(5)])"
   ]
  },
  {
   "cell_type": "code",
   "execution_count": 105,
   "metadata": {},
   "outputs": [],
   "source": [
    "b=zeros(4)\n",
    "for k in range(4):\n",
    "    b[k]=sum([basis[k](xs[i])*ys[i] for i in range(5)])"
   ]
  },
  {
   "cell_type": "code",
   "execution_count": 107,
   "metadata": {},
   "outputs": [
    {
     "data": {
      "text/plain": [
       "array([-1806.24968208,  2767.89685367,  1811.43734524, -1320.71537177])"
      ]
     },
     "execution_count": 107,
     "metadata": {},
     "output_type": "execute_result"
    }
   ],
   "source": [
    "#b\n",
    "a=linalg.solve(A,b)\n",
    "a"
   ]
  },
  {
   "cell_type": "code",
   "execution_count": 108,
   "metadata": {},
   "outputs": [
    {
     "data": {
      "text/plain": [
       "0.47842483646797973"
      ]
     },
     "execution_count": 108,
     "metadata": {},
     "output_type": "execute_result"
    }
   ],
   "source": [
    "#c \n",
    "def F(x):\n",
    "    return sum([a[i]*basis[i](x) for i in range(4)])\n",
    "F(0.25)"
   ]
  },
  {
   "cell_type": "code",
   "execution_count": 110,
   "metadata": {},
   "outputs": [
    {
     "data": {
      "text/plain": [
       "[<matplotlib.lines.Line2D at 0x11ba53250>]"
      ]
     },
     "execution_count": 110,
     "metadata": {},
     "output_type": "execute_result"
    },
    {
     "data": {
      "image/png": "[encoded data removed]",
      "text/plain": [
       "<Figure size 432x288 with 1 Axes>"
      ]
     },
     "metadata": {
      "needs_background": "light"
     },
     "output_type": "display_data"
    }
   ],
   "source": [
    "xd=linspace(0,0.5)\n",
    "yd=[F(x) for x in xd]\n",
    "plot(xd,yd,'b')\n",
    "plot(xs,ys,\"ro\")"
   ]
  },
  {
   "cell_type": "code",
   "execution_count": 123,
   "metadata": {},
   "outputs": [],
   "source": [
    "#6.a Euler Method\n",
    "def g(x,y):\n",
    "    return 1/y +y*sin(2*x)"
   ]
  },
  {
   "cell_type": "code",
   "execution_count": 124,
   "metadata": {},
   "outputs": [],
   "source": [
    "h=xs[1]-xs[0]\n",
    "n=200\n",
    "xs=linspace(0,10,n)\n",
    "ys=zeros(n)\n",
    "ys[0]=1/4\n",
    "for i in range(n-1):\n",
    "    ys[i+1]=ys[i]+h*g(xs[i],ys[i])"
   ]
  },
  {
   "cell_type": "code",
   "execution_count": 125,
   "metadata": {},
   "outputs": [
    {
     "data": {
      "text/plain": [
       "3.908486089568521"
      ]
     },
     "execution_count": 125,
     "metadata": {},
     "output_type": "execute_result"
    },
    {
     "data": {
      "image/png": "[encoded data removed]",
      "text/plain": [
       "<Figure size 432x288 with 1 Axes>"
      ]
     },
     "metadata": {
      "needs_background": "light"
     },
     "output_type": "display_data"
    }
   ],
   "source": [
    "plot(xs,ys)\n",
    "ys[-1]"
   ]
  },
  {
   "cell_type": "code",
   "execution_count": 122,
   "metadata": {},
   "outputs": [
    {
     "data": {
      "text/plain": [
       "3.972468373523113"
      ]
     },
     "execution_count": 122,
     "metadata": {},
     "output_type": "execute_result"
    }
   ],
   "source": [
    "#c Runge-Kutta method\n",
    "h=xs[1]-xs[0]\n",
    "n=200\n",
    "xs=linspace(0,10,n)\n",
    "ys=zeros(n)\n",
    "ys[0]=1/4\n",
    "for i in range(n-1):\n",
    "    k0= h*g(xs[i],ys[i])\n",
    "    k1= h*g(xs[i]+h,ys[i]+h)\n",
    "    ys[i+1]=ys[i]+k0/2+k1/2\n",
    "ys[-1]"
   ]
  }
 ],
 "metadata": {
  "kernelspec": {
   "display_name": "Python 3",
   "language": "python",
   "name": "python3"
  },
  "language_info": {
   "codemirror_mode": {
    "name": "ipython",
    "version": 3
   },
   "file_extension": ".py",
   "mimetype": "text/x-python",
   "name": "python",
   "nbconvert_exporter": "python",
   "pygments_lexer": "ipython3",
   "version": "3.7.4"
  }
 },
 "nbformat": 4,
 "nbformat_minor": 2
}
